{
 "cells": [
  {
   "cell_type": "markdown",
   "id": "b6fc5200",
   "metadata": {},
   "source": [
    "# Stress Test"
   ]
  },
  {
   "cell_type": "code",
   "execution_count": null,
   "id": "fd5529df",
   "metadata": {},
   "outputs": [
    {
     "name": "stderr",
     "output_type": "stream",
     "text": [
      "/Users/noahkrieger/projects/dissertation/kasbench/globeco-benchmark-coordinator/.venv/lib/python3.13/site-packages/locust/__init__.py:16: MonkeyPatchWarning: Monkey-patching ssl after ssl has already been imported may lead to errors, including RecursionError on Python 3.6. It may also silently lead to incorrect behaviour on Python 3.7. Please monkey-patch earlier. See https://github.com/gevent/gevent/issues/1016. Modules that had direct imports (NOT patched): ['urllib3.util.ssl_ (/Users/noahkrieger/projects/dissertation/kasbench/globeco-benchmark-coordinator/.venv/lib/python3.13/site-packages/urllib3/util/ssl_.py)', 'urllib3.util (/Users/noahkrieger/projects/dissertation/kasbench/globeco-benchmark-coordinator/.venv/lib/python3.13/site-packages/urllib3/util/__init__.py)']. \n",
      "  monkey.patch_all()\n"
     ]
    }
   ],
   "source": [
    "\n",
    "import common.portal_client as portal_client"
   ]
  },
  {
   "cell_type": "code",
   "execution_count": 8,
   "id": "9193124a",
   "metadata": {},
   "outputs": [],
   "source": [
    "base = \"http://globeco.local:31510\""
   ]
  },
  {
   "cell_type": "markdown",
   "id": "55ac0d63",
   "metadata": {},
   "source": [
    "## Check for healthy portal"
   ]
  },
  {
   "cell_type": "code",
   "execution_count": 10,
   "id": "41cd05d4",
   "metadata": {},
   "outputs": [
    {
     "name": "stdout",
     "output_type": "stream",
     "text": [
      "OK\n",
      "Status Code: 200\n",
      "Reason: OK\n",
      "{\n",
      "    \"status\": \"healthy\",\n",
      "    \"timestamp\": \"2025-07-28T11:47:15.326Z\",\n",
      "    \"service\": \"globeco-portfolio-management-portal\",\n",
      "    \"version\": \"0.1.0\",\n",
      "    \"checks\": [\n",
      "        {\n",
      "            \"name\": \"database\",\n",
      "            \"status\": \"healthy\",\n",
      "            \"duration\": 11.642391002826082\n",
      "        },\n",
      "        {\n",
      "            \"name\": \"external_api\",\n",
      "            \"status\": \"healthy\",\n",
      "            \"duration\": 89.95131230102938\n",
      "        },\n",
      "        {\n",
      "            \"name\": \"cache\",\n",
      "            \"status\": \"healthy\",\n",
      "            \"duration\": 29.25066158472445\n",
      "        }\n",
      "    ],\n",
      "    \"telemetry\": {\n",
      "        \"service_name\": \"globeco-portfolio-management-portal\",\n",
      "        \"collector_endpoint\": \"http://otel-collector-collector.monitoring.svc.cluster.local:4318\",\n",
      "        \"debug_mode\": true,\n",
      "        \"traces_filtered\": \"Health check traces are filtered out from Jaeger\"\n",
      "    }\n",
      "}\n"
     ]
    }
   ],
   "source": [
    "response = portal_client.get_health(base)\n",
    "print(response.reason)\n",
    "portal_client.pprint(response)"
   ]
  },
  {
   "cell_type": "code",
   "execution_count": null,
   "id": "749b0f3a",
   "metadata": {},
   "outputs": [],
   "source": []
  },
  {
   "cell_type": "code",
   "execution_count": null,
   "id": "89450057",
   "metadata": {},
   "outputs": [],
   "source": []
  }
 ],
 "metadata": {
  "kernelspec": {
   "display_name": ".venv",
   "language": "python",
   "name": "python3"
  },
  "language_info": {
   "codemirror_mode": {
    "name": "ipython",
    "version": 3
   },
   "file_extension": ".py",
   "mimetype": "text/x-python",
   "name": "python",
   "nbconvert_exporter": "python",
   "pygments_lexer": "ipython3",
   "version": "3.13.0"
  }
 },
 "nbformat": 4,
 "nbformat_minor": 5
}
